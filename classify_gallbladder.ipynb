{
 "cells": [
  {
   "cell_type": "markdown",
   "id": "ff34c660",
   "metadata": {},
   "source": [
    "### Tryout model Pytorch"
   ]
  },
  {
   "cell_type": "code",
   "execution_count": 2,
   "id": "cba0b805",
   "metadata": {
    "tags": []
   },
   "outputs": [],
   "source": [
    "#!pip install pytorch-ignite\n",
    "#!pip install -e /workspace/VisionWorks\n",
    "\n",
    "#!nvidia-smi               #shell ?\n",
    "#!nvcc --version           #shell ?\n",
    "#!pip install tqdm\n",
    "#!pip install sklearn"
   ]
  },
  {
   "cell_type": "code",
   "execution_count": 13,
   "id": "238fb7a9",
   "metadata": {
    "tags": []
   },
   "outputs": [],
   "source": [
    "import wandb\n",
    "from ignite.contrib.handlers.wandb_logger import *\n",
    "from ignite.contrib.engines.common import * # does contain the setup_wandb_logging\n",
    "import os\n",
    "\n",
    "import ignite\n",
    "from ignite.engine import Events, create_supervised_trainer, create_supervised_evaluator\n",
    "from ignite.metrics import Accuracy, Loss, RunningAverage, ConfusionMatrix\n",
    "from ignite.handlers import ModelCheckpoint, EarlyStopping\n",
    "\n",
    "from PIL import Image\n",
    "from read_lapchol import LapcholDataset\n",
    "from matplotlib.pyplot import imshow\n",
    "from transforms import ReadPILImage\n",
    "import torch\n",
    "from torch.optim import Adam\n",
    "from torchvision.models import resnet18\n",
    "from torchvision.models import resnet50\n",
    "from torchvision import transforms\n",
    "from torchvision.transforms import ToTensor\n",
    "from torch.utils.data import DataLoader\n",
    "import numpy as np\n",
    "\n",
    "import random\n",
    "\n",
    "import torch.nn as nn\n",
    "import torchvision\n",
    "import torchvision.transforms as transforms\n",
    "import sklearn\n",
    "from sklearn.model_selection import KFold\n",
    "\n",
    "from visionworks.transformation.loading.image_loading import LoadPILImage\n",
    "from visionworks.transformation.image.image_transforms import ResizePILImage, ResizeNumpyImage, CenterCropTorchvision, ResizeTorchvision \n",
    "from visionworks.transformation import TorchvisionTformWrapper\n",
    "\n",
    "from torchvision import transforms\n",
    "from torchvision.transforms import Compose\n",
    "from torchvision.transforms import ToTensor\n",
    "\n",
    "from transforms import LabelToInt, LabelToTensor, DicttoImageandLabel \n",
    "\n"
   ]
  },
  {
   "cell_type": "code",
   "execution_count": 3,
   "id": "544f71ee",
   "metadata": {},
   "outputs": [
    {
     "name": "stderr",
     "output_type": "stream",
     "text": [
      "wandb: Currently logged in as: jnjsurgery (use `wandb login --relogin` to force relogin)\n"
     ]
    },
    {
     "data": {
      "text/plain": [
       "True"
      ]
     },
     "execution_count": 3,
     "metadata": {},
     "output_type": "execute_result"
    }
   ],
   "source": [
    "wandb.login()"
   ]
  },
  {
   "cell_type": "code",
   "execution_count": 4,
   "id": "0215619c",
   "metadata": {
    "jupyter": {
     "source_hidden": true
    },
    "tags": []
   },
   "outputs": [
    {
     "data": {
      "text/html": [
       "\n",
       "                Tracking run with wandb version 0.10.30<br/>\n",
       "                Syncing run <strong style=\"color:#cdcd00\">classify_gallbladder</strong> to <a href=\"https://wandb.ai\" target=\"_blank\">Weights & Biases</a> <a href=\"https://docs.wandb.com/integrations/jupyter.html\" target=\"_blank\">(Documentation)</a>.<br/>\n",
       "                Project page: <a href=\"https://wandb.ai/rubyegging/project1\" target=\"_blank\">https://wandb.ai/rubyegging/project1</a><br/>\n",
       "                Run page: <a href=\"https://wandb.ai/rubyegging/project1/runs/2fb9h1sc\" target=\"_blank\">https://wandb.ai/rubyegging/project1/runs/2fb9h1sc</a><br/>\n",
       "                Run data is saved locally in <code>C:\\Users\\rubye\\PycharmProjects\\pythonProject3\\eigen script\\script\\wandb\\run-20210519_143731-2fb9h1sc</code><br/><br/>\n",
       "            "
      ],
      "text/plain": [
       "<IPython.core.display.HTML object>"
      ]
     },
     "metadata": {},
     "output_type": "display_data"
    }
   ],
   "source": [
    "wandb_logger = WandBLogger(\n",
    "    project='project1',\n",
    "    entity='rubyegging',\n",
    "    name=\"classify_gallbladder\",\n",
    "    config={  # and include hyperparameters and metadata\n",
    "        \"learning_rate\": 0.001,\n",
    "        \"epochs\": 5,\n",
    "        \"batch_size\": 50,\n",
    "        \"loss_function\": \"CrossEntropyLoss\",\n",
    "        \"architecture\": \"Resnet50\",\n",
    "        \"dataset\": \"Lapchol_dataset\"},\n",
    "    tags=[\"pytorch-ignite\", \"lapchol\", \"try-out\"]\n",
    ")\n",
    "\n",
    "config = wandb_logger.config"
   ]
  },
  {
   "cell_type": "code",
   "execution_count": 7,
   "id": "948a08a9",
   "metadata": {},
   "outputs": [
    {
     "name": "stdout",
     "output_type": "stream",
     "text": [
      "! Removed 0 samples with label excl\n",
      "! Removed 14 samples with label 0\n",
      "! Changed 416 samples from 3 to 2\n",
      "! Removed 0 samples with label excl\n",
      "! Removed 8 samples with label 0\n",
      "! Changed 324 samples from 3 to 2\n",
      "771\n",
      "405\n"
     ]
    }
   ],
   "source": [
    "class_labels = [1,2]\n",
    "\n",
    "# hyperparameters in config.  \n",
    "\n",
    "# Load lapchol dataset\n",
    "lapchol_train = LapcholDataset(root_dir='C:/Users/rubye/PycharmProjects/pythonProject3/eigen script/Lapchol_dataset', incl_videos=[88,89,92,94,95], sample_rate=1) #70%\n",
    "lapchol_val = LapcholDataset(root_dir='C:/Users/rubye/PycharmProjects/pythonProject3/eigen script/Lapchol_dataset', incl_videos=[88,89], sample_rate=1) #20%\n",
    "#lapchol_test = LapcholDataset(root_dir='D:/Ruby/Lapchol_dataset', incl_videos=[88,95], sample_rate=1) #10%\n",
    "\n",
    "print(lapchol_train.__len__())\n",
    "print(lapchol_val.__len__())"
   ]
  },
  {
   "cell_type": "code",
   "execution_count": 9,
   "id": "1030d0d7",
   "metadata": {
    "tags": []
   },
   "outputs": [
    {
     "name": "stdout",
     "output_type": "stream",
     "text": [
      "Example: {'frame_path': 'C:/Users/rubye/PycharmProjects/pythonProject3/eigen script/Lapchol_dataset\\\\frames\\\\video89/frame-000120-000.png', 'frame_nr': 120, 'video_nr': 89, 'G_A_Grade': 2}\n"
     ]
    },
    {
     "data": {
      "text/plain": [
       "<matplotlib.image.AxesImage at 0x253cc1d2c40>"
      ]
     },
     "execution_count": 9,
     "metadata": {},
     "output_type": "execute_result"
    },
    {
     "data": {
      "image/png": "[encoded data removed]",
      "text/plain": [
       "<Figure size 432x288 with 1 Axes>"
      ]
     },
     "metadata": {
      "needs_background": "light"
     },
     "output_type": "display_data"
    }
   ],
   "source": [
    "# Print the first sample, as an example\n",
    "sample = lapchol_train.__getitem__(200)\n",
    "print('Example:', sample)\n",
    "pil_img = Image.open(sample['frame_path']).convert('RGB')\n",
    "imshow(np.asarray(pil_img))"
   ]
  },
  {
   "cell_type": "code",
   "execution_count": 11,
   "id": "ec339ab8",
   "metadata": {
    "tags": []
   },
   "outputs": [
    {
     "name": "stdout",
     "output_type": "stream",
     "text": [
      "{0: 0, 1: 161, 2: 610, 3: 0, 4: 0}\n",
      "0: 0.0\n",
      "1: 20.881971465629054\n",
      "2: 79.11802853437095\n",
      "3: 0.0\n",
      "4: 0.0\n",
      " Total number of samples: 771\n"
     ]
    }
   ],
   "source": [
    "# how much frames for each label are there in lapchol_train?\n",
    "\n",
    "total = 0\n",
    "counter_dict = {0: 0, 1: 0, 2: 0, 3: 0, 4: 0}\n",
    "for i in range(lapchol_train.__len__()):\n",
    "    sample = lapchol_train.__getitem__(i)\n",
    "    label = sample.get('G_A_Grade')\n",
    "    if label == 'excl':\n",
    "        label = 4\n",
    "    else:\n",
    "        label = label\n",
    "    counter_dict[int(label)] += 1\n",
    "    total += 1\n",
    "\n",
    "print(counter_dict)\n",
    "\n",
    "for i in counter_dict:\n",
    "    print(f\"{i}: {counter_dict[i] / total * 100}\")\n",
    "\n",
    "total_nr_of_samples = lapchol_train.__len__()\n",
    "print(f' Total number of samples: {total_nr_of_samples}')"
   ]
  },
  {
   "cell_type": "code",
   "execution_count": 20,
   "id": "e62350a3",
   "metadata": {},
   "outputs": [
    {
     "name": "stdout",
     "output_type": "stream",
     "text": [
      "<torch.utils.data.dataloader.DataLoader object at 0x00000253D2FE1370>\n",
      "<torch.utils.data.dataloader.DataLoader object at 0x00000253D2FE13A0>\n"
     ]
    }
   ],
   "source": [
    "# Put Dataset in DataLoader\n",
    "\n",
    "# adjust to ensure the data is already transformed when used as input for the Dataloader\n",
    "dataloader_train = DataLoader(lapchol_train, config.batch_size, shuffle=True)\n",
    "print(dataloader_train)\n",
    "\n",
    "#sub_cholec_val = torch.utils.data.RandomSampler(cholec_val,replacement=True, num_samples=round(len(cholec_val)/5), generator=None)\n",
    "dataloader_val = DataLoader(lapchol_val, config.batch_size)\n",
    "\n",
    "print(dataloader_val)\n",
    "\n",
    "#dataloader_test = DataLoader(cholec_test, batch_size)\n",
    "\n",
    "\n",
    "# Define transforms to read images for train data\n",
    "transf_train = transforms.Compose([ReadPILImage(), transforms.RandomHorizontalFlip(), transforms.Resize(256), \n",
    "transforms.CenterCrop(224), transforms.ToTensor(), transforms.Normalize(mean=[0.485, 0.456, 0.406], \n",
    "std=[0.229, 0.224, 0.225])])\n",
    "\n",
    "def prepare_batch_train(batch, device, non_blocking):\n",
    "    frame_paths = batch['frame_path']\n",
    "    G_A_Grade = batch['G_A_Grade']\n",
    "\n",
    "    imgs = []\n",
    "    for frame_path in frame_paths:\n",
    "        img = transf_train(frame_path)\n",
    "        imgs.append(img)\n",
    "    imgs = torch.stack(imgs)\n",
    "\n",
    "    lbls = []\n",
    "    for G_A_Grade in G_A_Grade:\n",
    "        lbl = class_labels.index(G_A_Grade)\n",
    "        lbls.append(lbl)\n",
    "    lbls = torch.Tensor(lbls).type(torch.int64)\n",
    "\n",
    "    return (imgs, lbls)\n",
    "\n",
    "# Define transforms to read images for val data\n",
    "transf_val = transforms.Compose([ReadPILImage(), transforms.Resize(256), transforms.CenterCrop(224), \n",
    "transforms.ToTensor(), transforms.Normalize(mean=[0.485, 0.456, 0.406], std=[0.229, 0.224, 0.225])])\n",
    "\n",
    "def prepare_batch_val(batch, device, non_blocking):\n",
    "    frame_paths = batch['frame_path']\n",
    "    G_A_Grade = batch['G_A_Grade']\n",
    "\n",
    "    imgs = []\n",
    "    for frame_path in frame_paths:\n",
    "        img = transf_val(frame_path)\n",
    "        imgs.append(img)\n",
    "    imgs = torch.stack(imgs)\n",
    "\n",
    "    lbls = []\n",
    "    for G_A_Grade in G_A_Grade:\n",
    "        lbl = class_labels.index(G_A_Grade)\n",
    "        lbls.append(lbl)\n",
    "    lbls = torch.Tensor(lbls).type(torch.int64)\n",
    "\n",
    "    return (imgs, lbls)\n",
    "\n",
    "\n"
   ]
  },
  {
   "cell_type": "code",
   "execution_count": 21,
   "id": "e3cbdb2a",
   "metadata": {
    "tags": []
   },
   "outputs": [
    {
     "name": "stdout",
     "output_type": "stream",
     "text": [
      "ResNet(\n",
      "  (conv1): Conv2d(3, 64, kernel_size=(7, 7), stride=(2, 2), padding=(3, 3), bias=False)\n",
      "  (bn1): BatchNorm2d(64, eps=1e-05, momentum=0.1, affine=True, track_running_stats=True)\n",
      "  (relu): ReLU(inplace=True)\n",
      "  (maxpool): MaxPool2d(kernel_size=3, stride=2, padding=1, dilation=1, ceil_mode=False)\n",
      "  (layer1): Sequential(\n",
      "    (0): Bottleneck(\n",
      "      (conv1): Conv2d(64, 64, kernel_size=(1, 1), stride=(1, 1), bias=False)\n",
      "      (bn1): BatchNorm2d(64, eps=1e-05, momentum=0.1, affine=True, track_running_stats=True)\n",
      "      (conv2): Conv2d(64, 64, kernel_size=(3, 3), stride=(1, 1), padding=(1, 1), bias=False)\n",
      "      (bn2): BatchNorm2d(64, eps=1e-05, momentum=0.1, affine=True, track_running_stats=True)\n",
      "      (conv3): Conv2d(64, 256, kernel_size=(1, 1), stride=(1, 1), bias=False)\n",
      "      (bn3): BatchNorm2d(256, eps=1e-05, momentum=0.1, affine=True, track_running_stats=True)\n",
      "      (relu): ReLU(inplace=True)\n",
      "      (downsample): Sequential(\n",
      "        (0): Conv2d(64, 256, kernel_size=(1, 1), stride=(1, 1), bias=False)\n",
      "        (1): BatchNorm2d(256, eps=1e-05, momentum=0.1, affine=True, track_running_stats=True)\n",
      "      )\n",
      "    )\n",
      "    (1): Bottleneck(\n",
      "      (conv1): Conv2d(256, 64, kernel_size=(1, 1), stride=(1, 1), bias=False)\n",
      "      (bn1): BatchNorm2d(64, eps=1e-05, momentum=0.1, affine=True, track_running_stats=True)\n",
      "      (conv2): Conv2d(64, 64, kernel_size=(3, 3), stride=(1, 1), padding=(1, 1), bias=False)\n",
      "      (bn2): BatchNorm2d(64, eps=1e-05, momentum=0.1, affine=True, track_running_stats=True)\n",
      "      (conv3): Conv2d(64, 256, kernel_size=(1, 1), stride=(1, 1), bias=False)\n",
      "      (bn3): BatchNorm2d(256, eps=1e-05, momentum=0.1, affine=True, track_running_stats=True)\n",
      "      (relu): ReLU(inplace=True)\n",
      "    )\n",
      "    (2): Bottleneck(\n",
      "      (conv1): Conv2d(256, 64, kernel_size=(1, 1), stride=(1, 1), bias=False)\n",
      "      (bn1): BatchNorm2d(64, eps=1e-05, momentum=0.1, affine=True, track_running_stats=True)\n",
      "      (conv2): Conv2d(64, 64, kernel_size=(3, 3), stride=(1, 1), padding=(1, 1), bias=False)\n",
      "      (bn2): BatchNorm2d(64, eps=1e-05, momentum=0.1, affine=True, track_running_stats=True)\n",
      "      (conv3): Conv2d(64, 256, kernel_size=(1, 1), stride=(1, 1), bias=False)\n",
      "      (bn3): BatchNorm2d(256, eps=1e-05, momentum=0.1, affine=True, track_running_stats=True)\n",
      "      (relu): ReLU(inplace=True)\n",
      "    )\n",
      "  )\n",
      "  (layer2): Sequential(\n",
      "    (0): Bottleneck(\n",
      "      (conv1): Conv2d(256, 128, kernel_size=(1, 1), stride=(1, 1), bias=False)\n",
      "      (bn1): BatchNorm2d(128, eps=1e-05, momentum=0.1, affine=True, track_running_stats=True)\n",
      "      (conv2): Conv2d(128, 128, kernel_size=(3, 3), stride=(2, 2), padding=(1, 1), bias=False)\n",
      "      (bn2): BatchNorm2d(128, eps=1e-05, momentum=0.1, affine=True, track_running_stats=True)\n",
      "      (conv3): Conv2d(128, 512, kernel_size=(1, 1), stride=(1, 1), bias=False)\n",
      "      (bn3): BatchNorm2d(512, eps=1e-05, momentum=0.1, affine=True, track_running_stats=True)\n",
      "      (relu): ReLU(inplace=True)\n",
      "      (downsample): Sequential(\n",
      "        (0): Conv2d(256, 512, kernel_size=(1, 1), stride=(2, 2), bias=False)\n",
      "        (1): BatchNorm2d(512, eps=1e-05, momentum=0.1, affine=True, track_running_stats=True)\n",
      "      )\n",
      "    )\n",
      "    (1): Bottleneck(\n",
      "      (conv1): Conv2d(512, 128, kernel_size=(1, 1), stride=(1, 1), bias=False)\n",
      "      (bn1): BatchNorm2d(128, eps=1e-05, momentum=0.1, affine=True, track_running_stats=True)\n",
      "      (conv2): Conv2d(128, 128, kernel_size=(3, 3), stride=(1, 1), padding=(1, 1), bias=False)\n",
      "      (bn2): BatchNorm2d(128, eps=1e-05, momentum=0.1, affine=True, track_running_stats=True)\n",
      "      (conv3): Conv2d(128, 512, kernel_size=(1, 1), stride=(1, 1), bias=False)\n",
      "      (bn3): BatchNorm2d(512, eps=1e-05, momentum=0.1, affine=True, track_running_stats=True)\n",
      "      (relu): ReLU(inplace=True)\n",
      "    )\n",
      "    (2): Bottleneck(\n",
      "      (conv1): Conv2d(512, 128, kernel_size=(1, 1), stride=(1, 1), bias=False)\n",
      "      (bn1): BatchNorm2d(128, eps=1e-05, momentum=0.1, affine=True, track_running_stats=True)\n",
      "      (conv2): Conv2d(128, 128, kernel_size=(3, 3), stride=(1, 1), padding=(1, 1), bias=False)\n",
      "      (bn2): BatchNorm2d(128, eps=1e-05, momentum=0.1, affine=True, track_running_stats=True)\n",
      "      (conv3): Conv2d(128, 512, kernel_size=(1, 1), stride=(1, 1), bias=False)\n",
      "      (bn3): BatchNorm2d(512, eps=1e-05, momentum=0.1, affine=True, track_running_stats=True)\n",
      "      (relu): ReLU(inplace=True)\n",
      "    )\n",
      "    (3): Bottleneck(\n",
      "      (conv1): Conv2d(512, 128, kernel_size=(1, 1), stride=(1, 1), bias=False)\n",
      "      (bn1): BatchNorm2d(128, eps=1e-05, momentum=0.1, affine=True, track_running_stats=True)\n",
      "      (conv2): Conv2d(128, 128, kernel_size=(3, 3), stride=(1, 1), padding=(1, 1), bias=False)\n",
      "      (bn2): BatchNorm2d(128, eps=1e-05, momentum=0.1, affine=True, track_running_stats=True)\n",
      "      (conv3): Conv2d(128, 512, kernel_size=(1, 1), stride=(1, 1), bias=False)\n",
      "      (bn3): BatchNorm2d(512, eps=1e-05, momentum=0.1, affine=True, track_running_stats=True)\n",
      "      (relu): ReLU(inplace=True)\n",
      "    )\n",
      "  )\n",
      "  (layer3): Sequential(\n",
      "    (0): Bottleneck(\n",
      "      (conv1): Conv2d(512, 256, kernel_size=(1, 1), stride=(1, 1), bias=False)\n",
      "      (bn1): BatchNorm2d(256, eps=1e-05, momentum=0.1, affine=True, track_running_stats=True)\n",
      "      (conv2): Conv2d(256, 256, kernel_size=(3, 3), stride=(2, 2), padding=(1, 1), bias=False)\n",
      "      (bn2): BatchNorm2d(256, eps=1e-05, momentum=0.1, affine=True, track_running_stats=True)\n",
      "      (conv3): Conv2d(256, 1024, kernel_size=(1, 1), stride=(1, 1), bias=False)\n",
      "      (bn3): BatchNorm2d(1024, eps=1e-05, momentum=0.1, affine=True, track_running_stats=True)\n",
      "      (relu): ReLU(inplace=True)\n",
      "      (downsample): Sequential(\n",
      "        (0): Conv2d(512, 1024, kernel_size=(1, 1), stride=(2, 2), bias=False)\n",
      "        (1): BatchNorm2d(1024, eps=1e-05, momentum=0.1, affine=True, track_running_stats=True)\n",
      "      )\n",
      "    )\n",
      "    (1): Bottleneck(\n",
      "      (conv1): Conv2d(1024, 256, kernel_size=(1, 1), stride=(1, 1), bias=False)\n",
      "      (bn1): BatchNorm2d(256, eps=1e-05, momentum=0.1, affine=True, track_running_stats=True)\n",
      "      (conv2): Conv2d(256, 256, kernel_size=(3, 3), stride=(1, 1), padding=(1, 1), bias=False)\n",
      "      (bn2): BatchNorm2d(256, eps=1e-05, momentum=0.1, affine=True, track_running_stats=True)\n",
      "      (conv3): Conv2d(256, 1024, kernel_size=(1, 1), stride=(1, 1), bias=False)\n",
      "      (bn3): BatchNorm2d(1024, eps=1e-05, momentum=0.1, affine=True, track_running_stats=True)\n",
      "      (relu): ReLU(inplace=True)\n",
      "    )\n",
      "    (2): Bottleneck(\n",
      "      (conv1): Conv2d(1024, 256, kernel_size=(1, 1), stride=(1, 1), bias=False)\n",
      "      (bn1): BatchNorm2d(256, eps=1e-05, momentum=0.1, affine=True, track_running_stats=True)\n",
      "      (conv2): Conv2d(256, 256, kernel_size=(3, 3), stride=(1, 1), padding=(1, 1), bias=False)\n",
      "      (bn2): BatchNorm2d(256, eps=1e-05, momentum=0.1, affine=True, track_running_stats=True)\n",
      "      (conv3): Conv2d(256, 1024, kernel_size=(1, 1), stride=(1, 1), bias=False)\n",
      "      (bn3): BatchNorm2d(1024, eps=1e-05, momentum=0.1, affine=True, track_running_stats=True)\n",
      "      (relu): ReLU(inplace=True)\n",
      "    )\n",
      "    (3): Bottleneck(\n",
      "      (conv1): Conv2d(1024, 256, kernel_size=(1, 1), stride=(1, 1), bias=False)\n",
      "      (bn1): BatchNorm2d(256, eps=1e-05, momentum=0.1, affine=True, track_running_stats=True)\n",
      "      (conv2): Conv2d(256, 256, kernel_size=(3, 3), stride=(1, 1), padding=(1, 1), bias=False)\n",
      "      (bn2): BatchNorm2d(256, eps=1e-05, momentum=0.1, affine=True, track_running_stats=True)\n",
      "      (conv3): Conv2d(256, 1024, kernel_size=(1, 1), stride=(1, 1), bias=False)\n",
      "      (bn3): BatchNorm2d(1024, eps=1e-05, momentum=0.1, affine=True, track_running_stats=True)\n",
      "      (relu): ReLU(inplace=True)\n",
      "    )\n",
      "    (4): Bottleneck(\n",
      "      (conv1): Conv2d(1024, 256, kernel_size=(1, 1), stride=(1, 1), bias=False)\n",
      "      (bn1): BatchNorm2d(256, eps=1e-05, momentum=0.1, affine=True, track_running_stats=True)\n",
      "      (conv2): Conv2d(256, 256, kernel_size=(3, 3), stride=(1, 1), padding=(1, 1), bias=False)\n",
      "      (bn2): BatchNorm2d(256, eps=1e-05, momentum=0.1, affine=True, track_running_stats=True)\n",
      "      (conv3): Conv2d(256, 1024, kernel_size=(1, 1), stride=(1, 1), bias=False)\n",
      "      (bn3): BatchNorm2d(1024, eps=1e-05, momentum=0.1, affine=True, track_running_stats=True)\n",
      "      (relu): ReLU(inplace=True)\n",
      "    )\n",
      "    (5): Bottleneck(\n",
      "      (conv1): Conv2d(1024, 256, kernel_size=(1, 1), stride=(1, 1), bias=False)\n",
      "      (bn1): BatchNorm2d(256, eps=1e-05, momentum=0.1, affine=True, track_running_stats=True)\n",
      "      (conv2): Conv2d(256, 256, kernel_size=(3, 3), stride=(1, 1), padding=(1, 1), bias=False)\n",
      "      (bn2): BatchNorm2d(256, eps=1e-05, momentum=0.1, affine=True, track_running_stats=True)\n",
      "      (conv3): Conv2d(256, 1024, kernel_size=(1, 1), stride=(1, 1), bias=False)\n",
      "      (bn3): BatchNorm2d(1024, eps=1e-05, momentum=0.1, affine=True, track_running_stats=True)\n",
      "      (relu): ReLU(inplace=True)\n",
      "    )\n",
      "  )\n",
      "  (layer4): Sequential(\n",
      "    (0): Bottleneck(\n",
      "      (conv1): Conv2d(1024, 512, kernel_size=(1, 1), stride=(1, 1), bias=False)\n",
      "      (bn1): BatchNorm2d(512, eps=1e-05, momentum=0.1, affine=True, track_running_stats=True)\n",
      "      (conv2): Conv2d(512, 512, kernel_size=(3, 3), stride=(2, 2), padding=(1, 1), bias=False)\n",
      "      (bn2): BatchNorm2d(512, eps=1e-05, momentum=0.1, affine=True, track_running_stats=True)\n",
      "      (conv3): Conv2d(512, 2048, kernel_size=(1, 1), stride=(1, 1), bias=False)\n",
      "      (bn3): BatchNorm2d(2048, eps=1e-05, momentum=0.1, affine=True, track_running_stats=True)\n",
      "      (relu): ReLU(inplace=True)\n",
      "      (downsample): Sequential(\n",
      "        (0): Conv2d(1024, 2048, kernel_size=(1, 1), stride=(2, 2), bias=False)\n",
      "        (1): BatchNorm2d(2048, eps=1e-05, momentum=0.1, affine=True, track_running_stats=True)\n",
      "      )\n",
      "    )\n",
      "    (1): Bottleneck(\n",
      "      (conv1): Conv2d(2048, 512, kernel_size=(1, 1), stride=(1, 1), bias=False)\n",
      "      (bn1): BatchNorm2d(512, eps=1e-05, momentum=0.1, affine=True, track_running_stats=True)\n",
      "      (conv2): Conv2d(512, 512, kernel_size=(3, 3), stride=(1, 1), padding=(1, 1), bias=False)\n",
      "      (bn2): BatchNorm2d(512, eps=1e-05, momentum=0.1, affine=True, track_running_stats=True)\n",
      "      (conv3): Conv2d(512, 2048, kernel_size=(1, 1), stride=(1, 1), bias=False)\n",
      "      (bn3): BatchNorm2d(2048, eps=1e-05, momentum=0.1, affine=True, track_running_stats=True)\n",
      "      (relu): ReLU(inplace=True)\n",
      "    )\n",
      "    (2): Bottleneck(\n",
      "      (conv1): Conv2d(2048, 512, kernel_size=(1, 1), stride=(1, 1), bias=False)\n",
      "      (bn1): BatchNorm2d(512, eps=1e-05, momentum=0.1, affine=True, track_running_stats=True)\n",
      "      (conv2): Conv2d(512, 512, kernel_size=(3, 3), stride=(1, 1), padding=(1, 1), bias=False)\n",
      "      (bn2): BatchNorm2d(512, eps=1e-05, momentum=0.1, affine=True, track_running_stats=True)\n",
      "      (conv3): Conv2d(512, 2048, kernel_size=(1, 1), stride=(1, 1), bias=False)\n",
      "      (bn3): BatchNorm2d(2048, eps=1e-05, momentum=0.1, affine=True, track_running_stats=True)\n",
      "      (relu): ReLU(inplace=True)\n",
      "    )\n",
      "  )\n",
      "  (avgpool): AdaptiveAvgPool2d(output_size=(1, 1))\n",
      "  (fc): Sequential(\n",
      "    (0): Linear(in_features=2048, out_features=2, bias=True)\n",
      "    (1): Sigmoid()\n",
      "  )\n",
      ")\n"
     ]
    }
   ],
   "source": [
    "model = resnet50(pretrained=True)\n",
    "num_ftrs = model.fc.in_features\n",
    "\n",
    "\n",
    "#for binary classification:\n",
    "model.fc = torch.nn.Sequential(torch.nn.Linear(num_ftrs, out_features=2,\n",
    "                                               bias=True), nn.Sigmoid())\n",
    "\n",
    "#for multiple class classification\n",
    "#model.fc = torch.nn.Sequential(torch.nn.Linear(num_ftrs, out_features=3,\n",
    "#                                bias=True), torch.nn.Softmax(dim=1))\n",
    "\n",
    "#for param in model.parameters():\n",
    "#    param.requires_grad = False   \n",
    "#    \n",
    "#model.fc = nn.Sequential(\n",
    "#               nn.Linear(2048, 128),\n",
    "#               nn.ReLU(inplace=True),\n",
    "#               nn.Linear(128, 2)).to(device)\n",
    "print(model)"
   ]
  },
  {
   "cell_type": "code",
   "execution_count": 22,
   "id": "75cb61de",
   "metadata": {
    "tags": []
   },
   "outputs": [
    {
     "data": {
      "text/plain": [
       "<ignite.engine.events.RemovableEventHandle at 0x253cdf2a8b0>"
      ]
     },
     "execution_count": 22,
     "metadata": {},
     "output_type": "execute_result"
    }
   ],
   "source": [
    "device = torch.device(\"cuda:0\" if torch.cuda.is_available() else \"cpu\")\n",
    "model = model.to(device)\n",
    "    \n",
    "optimizer = Adam(model.parameters(), config.learning_rate, betas=(0.9, 0.999), eps=1e-08, weight_decay=0, amsgrad=False)\n",
    "criterion = torch.nn.CrossEntropyLoss()\n",
    "epochs = config.epochs\n",
    "    \n",
    "trainer = create_supervised_trainer(model, optimizer, criterion, device=device, prepare_batch=prepare_batch_train)\n",
    "    \n",
    "metrics = {'accuracy':Accuracy(), 'loss':Loss(criterion), 'cm':ConfusionMatrix(num_classes=len(class_labels))}\n",
    "\n",
    "from ignite.utils import setup_logger\n",
    "trainer.logger = setup_logger(\"Train Logger\")\n",
    "\n",
    "val_evaluator = create_supervised_evaluator(model, metrics, device=device, prepare_batch=prepare_batch_val)\n",
    "    \n",
    "training_history = {'accuracy':[],'loss':[]}\n",
    "validation_history = {'accuracy':[],'loss':[]}\n",
    "\n",
    "@trainer.on(Events.ITERATION_COMPLETED(every=1))\n",
    "def log_training_loss(engine):\n",
    "    epoch = engine.state.epoch\n",
    "    max_batches = engine.state.epoch_length\n",
    "    batch_nr = engine.state.iteration\n",
    "    batch_nr = batch_nr - (epoch - 1) * max_batches\n",
    "    loss = engine.state.output\n",
    "    #wandb.log({\"train loss\": loss})\n",
    "    \n",
    "    print(f'Epoch[{epoch}] Batch[{batch_nr}/{max_batches}] Loss: {loss:.4f}')\n",
    "\n",
    "@trainer.on(Events.EPOCH_COMPLETED)\n",
    "def log_training_results(trainer):\n",
    "    val_evaluator.run(dataloader_train)\n",
    "    metrics = val_evaluator.state.metrics\n",
    "    print(f\"Training Results - Epoch[{trainer.state.epoch}] Avg accuracy: {metrics['accuracy']:.2f} Avg loss: {metrics['loss']:.2f}\")\n",
    "\n",
    "\n",
    "@trainer.on(Events.EPOCH_COMPLETED)\n",
    "def log_validation_results(trainer):\n",
    "    val_evaluator.run(dataloader_val)\n",
    "    validation_acc = val_evaluator.state.metrics[\"accuracy\"]\n",
    "    print(\"Epoch: {} Validation accuracy: {:.2f}\".format(trainer.state.epoch, validation_acc))\n",
    "\n",
    "    \n",
    "    '''\n",
    "    Using WandBLogger in ignite is a 2-step modular process: First, you need to create \n",
    "    a WandBLogger object. Then it can be attached to any trainer or evaluator to automatically log the metrics. \n",
    "    We'll do the following tasks sequentially: 1) Create a WandBLogger object\n",
    "    \n",
    "    Wandb Object Creation\n",
    "    '''\n",
    "\n",
    "    \n",
    "    '''\n",
    " \n",
    "    2) Attach the Object to the output handlers to:\n",
    "    \n",
    "    1) Log training loss - attach to trainer\n",
    "    2) Log validation loss - attach to evaluator\n",
    "    3) Log optional Parameters\n",
    "    4) Watch the model\n",
    "    '''\n",
    "wandb_logger.attach_output_handler(\n",
    "trainer,\n",
    "event_name=Events.ITERATION_COMPLETED,\n",
    "tag=\"training\",\n",
    "output_transform=lambda loss: {\"loss\": loss}\n",
    ")\n",
    " \n",
    "wandb_logger.attach_output_handler(\n",
    "val_evaluator,\n",
    "event_name=Events.EPOCH_COMPLETED,\n",
    "tag=\"training\",\n",
    "metric_names=[\"loss\", \"accuracy\"],\n",
    "global_step_transform=lambda *_: trainer.state.iteration,\n",
    ")\n",
    " \n",
    "wandb_logger.attach_opt_params_handler(\n",
    "trainer,\n",
    "event_name=Events.ITERATION_STARTED,\n",
    "optimizer=optimizer,\n",
    "param_name='lr'  # optional\n",
    ")\n",
    " \n",
    "\n",
    "\n"
   ]
  },
  {
   "cell_type": "code",
   "execution_count": 23,
   "id": "5bf07723",
   "metadata": {},
   "outputs": [
    {
     "data": {
      "text/plain": [
       "[<wandb.wandb_torch.TorchGraph at 0x253cc729100>]"
      ]
     },
     "execution_count": 23,
     "metadata": {},
     "output_type": "execute_result"
    }
   ],
   "source": [
    "wandb_logger.watch(model,criterion,log=all,log_freq=10)"
   ]
  },
  {
   "cell_type": "code",
   "execution_count": null,
   "id": "3aa226ce",
   "metadata": {},
   "outputs": [
    {
     "name": "stderr",
     "output_type": "stream",
     "text": [
      "2021-05-19 14:46:39,928 Train Logger INFO: Engine run starting with max_epochs=5.\n"
     ]
    },
    {
     "name": "stdout",
     "output_type": "stream",
     "text": [
      "Epoch[1] Batch[1/16] Loss: 0.6932\n",
      "Epoch[1] Batch[2/16] Loss: 0.4847\n",
      "Epoch[1] Batch[3/16] Loss: 0.4967\n",
      "Epoch[1] Batch[4/16] Loss: 0.3729\n",
      "Epoch[1] Batch[5/16] Loss: 0.4429\n",
      "Epoch[1] Batch[6/16] Loss: 0.4333\n",
      "Epoch[1] Batch[7/16] Loss: 0.3623\n",
      "Epoch[1] Batch[8/16] Loss: 0.3203\n",
      "Epoch[1] Batch[9/16] Loss: 0.3880\n",
      "Epoch[1] Batch[10/16] Loss: 0.3873\n",
      "Epoch[1] Batch[11/16] Loss: 0.4378\n",
      "Epoch[1] Batch[12/16] Loss: 0.3377\n",
      "Epoch[1] Batch[13/16] Loss: 0.3687\n",
      "Epoch[1] Batch[14/16] Loss: 0.3558\n",
      "Epoch[1] Batch[15/16] Loss: 0.3916\n",
      "Epoch[1] Batch[16/16] Loss: 0.3333\n",
      "Training Results - Epoch[1] Avg accuracy: 0.93 Avg loss: 0.38\n"
     ]
    },
    {
     "name": "stderr",
     "output_type": "stream",
     "text": [
      "2021-05-19 14:54:54,692 Train Logger INFO: Epoch[1] Complete. Time taken: 00:08:15\n"
     ]
    },
    {
     "name": "stdout",
     "output_type": "stream",
     "text": [
      "Epoch: 1 Validation accuracy: 0.96\n"
     ]
    }
   ],
   "source": [
    "trainer.run(dataloader_train, max_epochs=epochs)"
   ]
  },
  {
   "cell_type": "code",
   "execution_count": null,
   "id": "599e9a9a",
   "metadata": {},
   "outputs": [],
   "source": []
  },
  {
   "cell_type": "code",
   "execution_count": null,
   "id": "254d5bc0",
   "metadata": {},
   "outputs": [],
   "source": []
  }
 ],
 "metadata": {
  "kernelspec": {
   "display_name": "Python 3",
   "language": "python",
   "name": "python3"
  },
  "language_info": {
   "codemirror_mode": {
    "name": "ipython",
    "version": 3
   },
   "file_extension": ".py",
   "mimetype": "text/x-python",
   "name": "python",
   "nbconvert_exporter": "python",
   "pygments_lexer": "ipython3",
   "version": "3.9.1"
  }
 },
 "nbformat": 4,
 "nbformat_minor": 5
}
